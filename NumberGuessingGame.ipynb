{
 "cells": [
  {
   "cell_type": "code",
   "execution_count": 5,
   "id": "6d9f58dc",
   "metadata": {},
   "outputs": [
    {
     "name": "stdout",
     "output_type": "stream",
     "text": [
      "enter the number for guess56\n",
      "you enter greater number please enter low num \n",
      "enter the number for guess45\n",
      "you enter low number please high num\n",
      "enter the number for guess50\n",
      "you enter greater number please enter low num \n",
      "enter the number for guess47\n",
      "you enter low number please high num\n",
      "enter the number for guess49\n",
      "you win !!  5\n"
     ]
    }
   ],
   "source": [
    "import random\n",
    "computer_number = random.randrange(100)\n",
    "totalguess=0\n",
    "while totalguess <10:\n",
    "    user_input=int(input(\"enter the number for guess\"))\n",
    "    totalguess +=1\n",
    "    if user_input == computer_number:\n",
    "        print(\"you win !! \",totalguess)\n",
    "        break\n",
    "    elif user_input >computer_number:\n",
    "        print(\"you enter greater number please enter low num \")\n",
    "    else:\n",
    "        print(\"you enter low number please high num\")\n",
    "        \n",
    "        \n",
    "        "
   ]
  },
  {
   "cell_type": "code",
   "execution_count": null,
   "id": "82eccb2a",
   "metadata": {},
   "outputs": [],
   "source": []
  }
 ],
 "metadata": {
  "kernelspec": {
   "display_name": "Python 3 (ipykernel)",
   "language": "python",
   "name": "python3"
  },
  "language_info": {
   "codemirror_mode": {
    "name": "ipython",
    "version": 3
   },
   "file_extension": ".py",
   "mimetype": "text/x-python",
   "name": "python",
   "nbconvert_exporter": "python",
   "pygments_lexer": "ipython3",
   "version": "3.9.7"
  }
 },
 "nbformat": 4,
 "nbformat_minor": 5
}
