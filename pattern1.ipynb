{
 "cells": [
  {
   "cell_type": "code",
   "execution_count": 42,
   "id": "e8f8a805",
   "metadata": {},
   "outputs": [
    {
     "name": "stdout",
     "output_type": "stream",
     "text": [
      "   \n",
      "   *\n",
      "   ***\n",
      "   *****\n",
      "   *******\n",
      "enter somthing+\n",
      "+\n"
     ]
    }
   ],
   "source": [
    "def ide(n):\n",
    "    for i in range(n): \n",
    "        for j in range(1,n-1):\n",
    "            print(\" \",end=\"\")\n",
    "        for k in range(1,2*i):\n",
    "            print(\"*\",end=\"\")\n",
    "        print()\n",
    "    \n",
    "\n",
    "ide(5)\n",
    "a=input(\"enter somthing\")\n",
    "if a=='+':\n",
    "    print(a)\n"
   ]
  },
  {
   "cell_type": "code",
   "execution_count": 14,
   "id": "9b3a6777",
   "metadata": {},
   "outputs": [
    {
     "name": "stdout",
     "output_type": "stream",
     "text": [
      "\n",
      "*\n",
      "**\n",
      "***\n",
      "****\n",
      "*****\n"
     ]
    }
   ],
   "source": [
    "def pattern2(n):\n",
    "    for i in range(n+1):\n",
    "        for j in range(0,i):\n",
    "            print(\"*\",end=\"\")\n",
    "        print()\n",
    "        \n",
    "pattern2(5)\n",
    "            "
   ]
  },
  {
   "cell_type": "code",
   "execution_count": 24,
   "id": "3e725003",
   "metadata": {},
   "outputs": [
    {
     "name": "stdout",
     "output_type": "stream",
     "text": [
      "****\n",
      "***\n",
      "**\n",
      "*\n",
      "\n"
     ]
    }
   ],
   "source": [
    "def pattern3(n):\n",
    "    for i in reversed(range(n)):\n",
    "        for j in range(0,i):\n",
    "            print(\"*\",end=\"\")\n",
    "        print()\n",
    "\n",
    "pattern3(5)\n",
    "        "
   ]
  },
  {
   "cell_type": "code",
   "execution_count": 46,
   "id": "7a70639a",
   "metadata": {},
   "outputs": [
    {
     "name": "stdout",
     "output_type": "stream",
     "text": [
      "     \n",
      "    *\n",
      "   **\n",
      "  ***\n",
      " ****\n"
     ]
    }
   ],
   "source": [
    "def pattern4(n):\n",
    "    for i in range(n):\n",
    "        for j in range(n-i):\n",
    "            print(\" \",end=\"\")\n",
    "        for k in range(0,i):\n",
    "            print(\"*\",end=\"\")\n",
    "        print()\n",
    "\n",
    "pattern4(5)"
   ]
  },
  {
   "cell_type": "code",
   "execution_count": null,
   "id": "7dffe7a7",
   "metadata": {},
   "outputs": [],
   "source": []
  },
  {
   "cell_type": "code",
   "execution_count": 31,
   "id": "5f5e7515",
   "metadata": {},
   "outputs": [
    {
     "name": "stdout",
     "output_type": "stream",
     "text": [
      "enter 1st number3\n",
      "enter 2nd numbber4\n",
      "7\n"
     ]
    }
   ],
   "source": [
    "a=int(input(\"enter 1st number\"))\n",
    "b=int(input(\"enter 2nd numbber\"))\n",
    "sum=a+b\n",
    "print(sum)"
   ]
  },
  {
   "cell_type": "code",
   "execution_count": 36,
   "id": "692ee362",
   "metadata": {},
   "outputs": [
    {
     "name": "stdout",
     "output_type": "stream",
     "text": [
      "3\n"
     ]
    }
   ],
   "source": [
    "a=3\n",
    "b=3\n",
    "c=3\n",
    "if a>b and a>c:\n",
    "    print(a)\n",
    "        \n",
    "    \n",
    "if b >a and b>c:\n",
    "    print(b)\n",
    "    \n",
    "    \n",
    "else:\n",
    "    print(c)"
   ]
  },
  {
   "cell_type": "code",
   "execution_count": null,
   "id": "2e3a071c",
   "metadata": {},
   "outputs": [],
   "source": []
  }
 ],
 "metadata": {
  "kernelspec": {
   "display_name": "Python 3 (ipykernel)",
   "language": "python",
   "name": "python3"
  },
  "language_info": {
   "codemirror_mode": {
    "name": "ipython",
    "version": 3
   },
   "file_extension": ".py",
   "mimetype": "text/x-python",
   "name": "python",
   "nbconvert_exporter": "python",
   "pygments_lexer": "ipython3",
   "version": "3.9.7"
  }
 },
 "nbformat": 4,
 "nbformat_minor": 5
}
