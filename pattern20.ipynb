{
 "cells": [
  {
   "cell_type": "code",
   "execution_count": 4,
   "id": "20901e56",
   "metadata": {},
   "outputs": [
    {
     "name": "stdout",
     "output_type": "stream",
     "text": [
      "*****\n",
      "*   *\n",
      "*   *\n",
      "*   *\n",
      "*****\n"
     ]
    }
   ],
   "source": [
    "# print this pattern\n",
    "# *****\n",
    "# *   *\n",
    "# *   *\n",
    "# *   *\n",
    "# *****\n",
    "\n",
    "def pattern1(n):\n",
    "    for i in range(n):\n",
    "        for j in range(0,n):\n",
    "            if(i==0 or i==n-1 or j==0 or j==n-1):\n",
    "                print(\"*\",end=\"\")\n",
    "            else:\n",
    "                print(\" \",end=\"\")\n",
    "        print()\n",
    "        \n",
    "        \n",
    "pattern1(5)"
   ]
  },
  {
   "cell_type": "code",
   "execution_count": 13,
   "id": "f734b07d",
   "metadata": {},
   "outputs": [
    {
     "name": "stdout",
     "output_type": "stream",
     "text": [
      "\n",
      "1 \n",
      "1 2 \n",
      "1 2 3 \n",
      "1 2 3 4 \n",
      "1 2 3 4 5 \n"
     ]
    }
   ],
   "source": [
    "# number increasing pyramid print this pyramid\n",
    "\n",
    "# 1 \n",
    "# 1 2 \n",
    "# 1 2 3 \n",
    "# 1 2 3 4 \n",
    "# 1 2 3 4 5 \n",
    "\n",
    "def pattern2(n):\n",
    "    for i in range(1,n+2):\n",
    "        for j in range(1,i):\n",
    "            print(j,end=\" \")\n",
    "        print()\n",
    "\n",
    "pattern2(5)"
   ]
  },
  {
   "cell_type": "code",
   "execution_count": 19,
   "id": "ee11e173",
   "metadata": {},
   "outputs": [
    {
     "name": "stdout",
     "output_type": "stream",
     "text": [
      "     \n",
      "    1 \n",
      "   2 2 \n",
      "  3 3 3 \n",
      " 4 4 4 4 \n"
     ]
    }
   ],
   "source": [
    "# print the number triangular\n",
    "     \n",
    "#     1 \n",
    "#    2 2 \n",
    "#   3 3 3 \n",
    "#  4 4 4 4 \n",
    "\n",
    "\n",
    "def pattern3(n):\n",
    "    for i in range(n):\n",
    "        for j in range(n-i):\n",
    "            print(\" \",end=\"\")\n",
    "        for j in range(1,i+1):\n",
    "            print(i,end=\" \")\n",
    "        print()\n",
    "        \n",
    "pattern3(5)"
   ]
  },
  {
   "cell_type": "code",
   "execution_count": 20,
   "id": "0f888847",
   "metadata": {},
   "outputs": [
    {
     "name": "stdout",
     "output_type": "stream",
     "text": [
      "1234\n",
      "123\n",
      "12\n",
      "1\n",
      "\n"
     ]
    }
   ],
   "source": [
    "# print number increasing reverse pyramid\n",
    "# 1234\n",
    "# 123\n",
    "# 12\n",
    "# 1\n",
    "\n",
    "\n",
    "def pattern4(n):\n",
    "    for i in reversed(range(n)):\n",
    "        for j in range(1,i+1):\n",
    "            print(j,end=\"\")\n",
    "        print()\n",
    "        \n",
    "pattern4(5)\n",
    "            "
   ]
  },
  {
   "cell_type": "code",
   "execution_count": 29,
   "id": "a40730ba",
   "metadata": {},
   "outputs": [
    {
     "name": "stdout",
     "output_type": "stream",
     "text": [
      "\n",
      "1 \n",
      "2 3 \n",
      "4 5 6 \n",
      "7 8 9 10 \n"
     ]
    }
   ],
   "source": [
    "# print number changing pyramid\n",
    "\n",
    "# 1 \n",
    "# 2 3 \n",
    "# 4 5 6 \n",
    "# 7 8 9 10 \n",
    "\n",
    "def pattern5(n):\n",
    "    cont=0;\n",
    "    for i in range(n):\n",
    "        for j in range(0,i):\n",
    "            cont=cont+1\n",
    "            print(cont,end=\" \")\n",
    "        print()\n",
    "        \n",
    "pattern5(5)"
   ]
  },
  {
   "cell_type": "code",
   "execution_count": 35,
   "id": "47c6f08c",
   "metadata": {},
   "outputs": [
    {
     "name": "stdout",
     "output_type": "stream",
     "text": [
      "1\n",
      "01\n",
      "101\n",
      "0101\n"
     ]
    }
   ],
   "source": [
    "# print one zero pattern\n",
    "\n",
    "# 1\n",
    "# 01\n",
    "# 101\n",
    "# 0101\n",
    "def pattern6(n):\n",
    "    for i in range(1,n):\n",
    "        for j in range(1,i+1):\n",
    "            print((i+j+1)%2,end=\"\")\n",
    "        print()\n",
    "\n",
    "pattern6(5)"
   ]
  },
  {
   "cell_type": "code",
   "execution_count": 46,
   "id": "a07f8c6a",
   "metadata": {},
   "outputs": [
    {
     "name": "stdout",
     "output_type": "stream",
     "text": [
      "0 \n",
      "1 0 \n",
      "0 1 0 \n",
      "1 0 1 0 \n",
      "0 1 0 1 0 \n"
     ]
    }
   ],
   "source": [
    "# print zero one pattern\n",
    "\n",
    "# 0 \n",
    "# 1 0 \n",
    "# 0 1 0 \n",
    "# 1 0 1 0 \n",
    "# 0 1 0 1 0 \n",
    "\n",
    "\n",
    "def pattern7(n):\n",
    "    for i in range(n):\n",
    "        for j in range(0,i+1):\n",
    "            print((i+j)%2,end=\" \")\n",
    "        print()\n",
    "\n",
    "pattern7(5)"
   ]
  },
  {
   "cell_type": "code",
   "execution_count": 47,
   "id": "2e2b140c",
   "metadata": {},
   "outputs": [
    {
     "name": "stdout",
     "output_type": "stream",
     "text": [
      "     \n",
      "    * \n",
      "   * * \n",
      "  * * * \n",
      " * * * * \n"
     ]
    }
   ],
   "source": [
    "def pattern8(n):\n",
    "    for i in range(n):\n",
    "        for j in range(n-i):\n",
    "            print(\" \",end=\"\")\n",
    "        for j in range(1,i+1):\n",
    "            print(\"*\",end=\" \")\n",
    "        print()\n",
    "        \n",
    "pattern8(5)"
   ]
  },
  {
   "cell_type": "code",
   "execution_count": null,
   "id": "b62a2ab9",
   "metadata": {},
   "outputs": [],
   "source": [
    "def pattern9(n):\n",
    "    for i in range(n):\n",
    "        for j in range(0,n):\n",
    "            print(\"*\",end=\" \")\n",
    "        "
   ]
  }
 ],
 "metadata": {
  "kernelspec": {
   "display_name": "Python 3 (ipykernel)",
   "language": "python",
   "name": "python3"
  },
  "language_info": {
   "codemirror_mode": {
    "name": "ipython",
    "version": 3
   },
   "file_extension": ".py",
   "mimetype": "text/x-python",
   "name": "python",
   "nbconvert_exporter": "python",
   "pygments_lexer": "ipython3",
   "version": "3.9.7"
  }
 },
 "nbformat": 4,
 "nbformat_minor": 5
}
